{
 "cells": [
  {
   "cell_type": "code",
   "execution_count": 15,
   "id": "cbeaeeec-415c-4ebc-b869-29078524f34d",
   "metadata": {},
   "outputs": [
    {
     "name": "stdin",
     "output_type": "stream",
     "text": [
      "Enter Number: 4\n"
     ]
    },
    {
     "name": "stdout",
     "output_type": "stream",
     "text": [
      "Positive Number\n"
     ]
    }
   ],
   "source": [
    "a=int(input(\"Enter Number:\"))\n",
    "if(a<0):\n",
    "    print(\"Negative Number\")\n",
    "elif(a==0):\n",
    "    print(\"Zero\")\n",
    "else:\n",
    "    print(\"Positive Number\")\n"
   ]
  },
  {
   "cell_type": "code",
   "execution_count": 23,
   "id": "d10601c8-2e86-4339-88ad-a504b69ed646",
   "metadata": {},
   "outputs": [
    {
     "name": "stdin",
     "output_type": "stream",
     "text": [
      "Enter a Number: 3\n"
     ]
    },
    {
     "name": "stdout",
     "output_type": "stream",
     "text": [
      "Odd Number\n"
     ]
    }
   ],
   "source": [
    "x=int(input(\"Enter a Number:\"))\n",
    "if(x%2==0):\n",
    "    print(\"Even Number\")\n",
    "else:\n",
    "    print(\"Odd Number\")\n"
   ]
  },
  {
   "cell_type": "code",
   "execution_count": 28,
   "id": "80616bce-c950-402c-a1f4-984bcf3b5d17",
   "metadata": {},
   "outputs": [],
   "source": [
    "  t=\"hello\""
   ]
  },
  {
   "cell_type": "code",
   "execution_count": 30,
   "id": "9de11f4d-0c6c-45ac-ae39-7dd2a452ddcb",
   "metadata": {},
   "outputs": [
    {
     "data": {
      "text/plain": [
       "str"
      ]
     },
     "execution_count": 30,
     "metadata": {},
     "output_type": "execute_result"
    }
   ],
   "source": [
    "type(t)"
   ]
  },
  {
   "cell_type": "code",
   "execution_count": 32,
   "id": "34986b29-41d5-492c-8178-45ae476b740d",
   "metadata": {},
   "outputs": [
    {
     "data": {
      "text/plain": [
       "True"
      ]
     },
     "execution_count": 32,
     "metadata": {},
     "output_type": "execute_result"
    }
   ],
   "source": [
    "t.isalpha()"
   ]
  },
  {
   "cell_type": "code",
   "execution_count": 34,
   "id": "80df68a3-08ff-487e-8a7d-a0e864cc5132",
   "metadata": {},
   "outputs": [
    {
     "data": {
      "text/plain": [
       "'l'"
      ]
     },
     "execution_count": 34,
     "metadata": {},
     "output_type": "execute_result"
    }
   ],
   "source": [
    "t[-2]"
   ]
  },
  {
   "cell_type": "code",
   "execution_count": 38,
   "id": "b3cc56da-0db2-4074-9a88-3896782db713",
   "metadata": {},
   "outputs": [
    {
     "data": {
      "text/plain": [
       "'ell'"
      ]
     },
     "execution_count": 38,
     "metadata": {},
     "output_type": "execute_result"
    }
   ],
   "source": [
    "t[1:4]"
   ]
  },
  {
   "cell_type": "code",
   "execution_count": 40,
   "id": "af6fc171-f001-43f2-9d5a-c1dd6d1199f4",
   "metadata": {},
   "outputs": [
    {
     "data": {
      "text/plain": [
       "'e'"
      ]
     },
     "execution_count": 40,
     "metadata": {},
     "output_type": "execute_result"
    }
   ],
   "source": [
    "t[1:3:2]"
   ]
  },
  {
   "cell_type": "code",
   "execution_count": 72,
   "id": "78d9bc0c-aeb5-4701-b0b1-ce1f05da59ef",
   "metadata": {},
   "outputs": [
    {
     "name": "stdin",
     "output_type": "stream",
     "text": [
      "Enter a word h\n"
     ]
    },
    {
     "name": "stdout",
     "output_type": "stream",
     "text": [
      "False\n"
     ]
    }
   ],
   "source": [
    "a=str(input(\"Enter a word\"))\n",
    "if(a[0]==\"T\" or a[0] == \"t\"):\n",
    "    print(\"True\")\n",
    "else:\n",
    "    print(\"False\")"
   ]
  },
  {
   "cell_type": "code",
   "execution_count": 70,
   "id": "b4cd70a2-078b-43e7-bdd6-61928b2ea4d7",
   "metadata": {},
   "outputs": [
    {
     "name": "stdin",
     "output_type": "stream",
     "text": [
      "Enter a word Hello\n"
     ]
    },
    {
     "name": "stdout",
     "output_type": "stream",
     "text": [
      "True\n"
     ]
    }
   ],
   "source": [
    "a=str(input(\"Enter a word\"))\n",
    "if(a[0]==\"T\" or a[0] == \"t\")or(a[0]==\"S\" or a[0] == \"s\")or(a[0]==\"h\" or a[0] == \"H\")or(a[0]==\"m\" or a[0] == \"M\"):\n",
    "    print(\"True\")\n",
    "else:\n",
    "    print(\"False\")"
   ]
  },
  {
   "cell_type": "code",
   "execution_count": 82,
   "id": "1dbb07d8-a47e-4fe7-a7cc-0bdb00277376",
   "metadata": {},
   "outputs": [
    {
     "name": "stdin",
     "output_type": "stream",
     "text": [
      " Telugu\n"
     ]
    },
    {
     "name": "stdout",
     "output_type": "stream",
     "text": [
      "Yes\n"
     ]
    }
   ],
   "source": [
    "x=str(input())\n",
    "if x[0].lower()=='t':\n",
    "    print('Yes')\n",
    "else:\n",
    "    print('No')"
   ]
  },
  {
   "cell_type": "code",
   "execution_count": 86,
   "id": "cd8c9d11-4ac1-418b-a1af-76356ec0a384",
   "metadata": {},
   "outputs": [
    {
     "name": "stdin",
     "output_type": "stream",
     "text": [
      " shami\n"
     ]
    },
    {
     "name": "stdout",
     "output_type": "stream",
     "text": [
      "No\n"
     ]
    }
   ],
   "source": [
    "j=str(input())\n",
    "if x[0].lower() in ('s','m','h'):\n",
    "    print(\"yes\")\n",
    "else:\n",
    "    print(\"No\")"
   ]
  },
  {
   "cell_type": "code",
   "execution_count": null,
   "id": "ca1aad9a-56a1-4a70-9e3d-414cbcd0184c",
   "metadata": {},
   "outputs": [],
   "source": []
  }
 ],
 "metadata": {
  "kernelspec": {
   "display_name": "Python 3 (ipykernel)",
   "language": "python",
   "name": "python3"
  },
  "language_info": {
   "codemirror_mode": {
    "name": "ipython",
    "version": 3
   },
   "file_extension": ".py",
   "mimetype": "text/x-python",
   "name": "python",
   "nbconvert_exporter": "python",
   "pygments_lexer": "ipython3",
   "version": "3.12.7"
  }
 },
 "nbformat": 4,
 "nbformat_minor": 5
}
