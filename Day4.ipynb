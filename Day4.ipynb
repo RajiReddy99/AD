{
 "cells": [
  {
   "cell_type": "code",
   "execution_count": 81,
   "id": "498cf0fb-b28e-4827-b7c9-2f3c9982d96a",
   "metadata": {},
   "outputs": [
    {
     "data": {
      "text/plain": [
       "{101: 4, 102: 2, 103: 6, 'B': 3}"
      ]
     },
     "execution_count": 81,
     "metadata": {},
     "output_type": "execute_result"
    }
   ],
   "source": [
    "d={101:4,102:2,103:6,'B':3}\n",
    "d"
   ]
  },
  {
   "cell_type": "code",
   "execution_count": 83,
   "id": "27cbcf0d-09a8-41c4-8add-f3aa87213fe1",
   "metadata": {},
   "outputs": [
    {
     "data": {
      "text/plain": [
       "2"
      ]
     },
     "execution_count": 83,
     "metadata": {},
     "output_type": "execute_result"
    }
   ],
   "source": [
    "d[102]"
   ]
  },
  {
   "cell_type": "code",
   "execution_count": 85,
   "id": "ee61a4f6-9a57-401c-9d0b-2966c202d048",
   "metadata": {},
   "outputs": [
    {
     "data": {
      "text/plain": [
       "3"
      ]
     },
     "execution_count": 85,
     "metadata": {},
     "output_type": "execute_result"
    }
   ],
   "source": [
    "d['B']"
   ]
  },
  {
   "cell_type": "code",
   "execution_count": 87,
   "id": "c209a303-cb65-49a3-953c-b7929955722d",
   "metadata": {},
   "outputs": [
    {
     "data": {
      "text/plain": [
       "{101: 4334, 102: 2, 103: 6, 'B': 3}"
      ]
     },
     "execution_count": 87,
     "metadata": {},
     "output_type": "execute_result"
    }
   ],
   "source": [
    "d[101]=4334\n",
    "d\n"
   ]
  },
  {
   "cell_type": "code",
   "execution_count": 89,
   "id": "29b42630-52ab-4a94-b089-45f71a101ede",
   "metadata": {},
   "outputs": [
    {
     "data": {
      "text/plain": [
       "{101: 4334, 102: 64, 103: 6, 'B': 3}"
      ]
     },
     "execution_count": 89,
     "metadata": {},
     "output_type": "execute_result"
    }
   ],
   "source": [
    "d.update({102:64})\n",
    "d"
   ]
  },
  {
   "cell_type": "code",
   "execution_count": 91,
   "id": "db7f1136-3aaf-4388-a21b-a5cc6ab7ae83",
   "metadata": {},
   "outputs": [
    {
     "data": {
      "text/plain": [
       "{101: 4334, 102: 64, 103: 6, 'B': 3, 105: 500}"
      ]
     },
     "execution_count": 91,
     "metadata": {},
     "output_type": "execute_result"
    }
   ],
   "source": [
    "d[105]=500#dictinary doesnot allow duplicate key\n",
    "d"
   ]
  },
  {
   "cell_type": "code",
   "execution_count": 93,
   "id": "967c50a2-8ac6-48b2-a32d-85ef2d6c63b5",
   "metadata": {},
   "outputs": [],
   "source": [
    "d.update({102:'Hello'})\n"
   ]
  },
  {
   "cell_type": "code",
   "execution_count": 95,
   "id": "97ac7ad3-fa72-4bd3-8151-723e8f9193fb",
   "metadata": {},
   "outputs": [
    {
     "data": {
      "text/plain": [
       "{101: 4334, 102: 'Hello', 103: 'Hello', 'B': 3, 105: 500}"
      ]
     },
     "execution_count": 95,
     "metadata": {},
     "output_type": "execute_result"
    }
   ],
   "source": [
    "d.update({103:'Hello'})#dictonary allow duplicate value\n",
    "d"
   ]
  },
  {
   "cell_type": "code",
   "execution_count": 97,
   "id": "6e92f2d8-0bc7-4300-b3cf-e01e9f716598",
   "metadata": {},
   "outputs": [
    {
     "data": {
      "text/plain": [
       "'Hello'"
      ]
     },
     "execution_count": 97,
     "metadata": {},
     "output_type": "execute_result"
    }
   ],
   "source": [
    "d.get(103)"
   ]
  },
  {
   "cell_type": "code",
   "execution_count": 111,
   "id": "17814a41-d4f9-4c37-b557-8e8a6ccac162",
   "metadata": {},
   "outputs": [
    {
     "data": {
      "text/plain": [
       "{102: [100, 200, 300], 103: 'Hello', 105: 500, 104: [12, 454, 532]}"
      ]
     },
     "execution_count": 111,
     "metadata": {},
     "output_type": "execute_result"
    }
   ],
   "source": [
    "d\n"
   ]
  },
  {
   "cell_type": "code",
   "execution_count": 105,
   "id": "21f28bae-8b3c-4df5-a12c-53a1a64deba5",
   "metadata": {},
   "outputs": [
    {
     "data": {
      "text/plain": [
       "{102: 'Hello', 103: 'Hello', 105: 500}"
      ]
     },
     "execution_count": 105,
     "metadata": {},
     "output_type": "execute_result"
    }
   ],
   "source": [
    "del d[101]\n",
    "d"
   ]
  },
  {
   "cell_type": "code",
   "execution_count": 107,
   "id": "f10ab772-1c36-4658-8a12-cd67145117ef",
   "metadata": {},
   "outputs": [
    {
     "data": {
      "text/plain": [
       "{102: [100, 200, 300], 103: 'Hello', 105: 500}"
      ]
     },
     "execution_count": 107,
     "metadata": {},
     "output_type": "execute_result"
    }
   ],
   "source": [
    "d[102]=[100,200,300]\n",
    "d"
   ]
  },
  {
   "cell_type": "code",
   "execution_count": 109,
   "id": "5b432bb0-6ee1-4d44-ae06-3d6b9af7ce78",
   "metadata": {},
   "outputs": [
    {
     "data": {
      "text/plain": [
       "{102: [100, 200, 300], 103: 'Hello', 105: 500, 104: [12, 454, 532]}"
      ]
     },
     "execution_count": 109,
     "metadata": {},
     "output_type": "execute_result"
    }
   ],
   "source": [
    "d.update({104:[12,454,532]})\n",
    "d"
   ]
  },
  {
   "cell_type": "code",
   "execution_count": 113,
   "id": "a52a9e60-76f7-4f41-aec4-2b71329de097",
   "metadata": {},
   "outputs": [
    {
     "data": {
      "text/plain": [
       "[12, 454, 532]"
      ]
     },
     "execution_count": 113,
     "metadata": {},
     "output_type": "execute_result"
    }
   ],
   "source": [
    "d[104]"
   ]
  },
  {
   "cell_type": "code",
   "execution_count": 117,
   "id": "c26383c2-f183-4141-bb90-85dfa7a2bc2f",
   "metadata": {},
   "outputs": [
    {
     "data": {
      "text/plain": [
       "list"
      ]
     },
     "execution_count": 117,
     "metadata": {},
     "output_type": "execute_result"
    }
   ],
   "source": [
    "type(d[102])"
   ]
  },
  {
   "cell_type": "code",
   "execution_count": 119,
   "id": "ee7ae4e7-d9ee-45ca-93f6-ee2309342482",
   "metadata": {},
   "outputs": [
    {
     "data": {
      "text/plain": [
       "str"
      ]
     },
     "execution_count": 119,
     "metadata": {},
     "output_type": "execute_result"
    }
   ],
   "source": [
    "type(d[103])"
   ]
  },
  {
   "cell_type": "code",
   "execution_count": 121,
   "id": "b1ca6eff-323d-4746-91c0-cf359fea5389",
   "metadata": {},
   "outputs": [
    {
     "data": {
      "text/plain": [
       "int"
      ]
     },
     "execution_count": 121,
     "metadata": {},
     "output_type": "execute_result"
    }
   ],
   "source": [
    "type(d[105])"
   ]
  },
  {
   "cell_type": "code",
   "execution_count": 123,
   "id": "087503af-fd21-4a57-a0ec-0134661eb189",
   "metadata": {},
   "outputs": [
    {
     "data": {
      "text/plain": [
       "{102: (30, 40, 50, 74), 103: 'Hello', 105: 500, 104: [12, 454, 532]}"
      ]
     },
     "execution_count": 123,
     "metadata": {},
     "output_type": "execute_result"
    }
   ],
   "source": [
    "d.update({102:(30,40,50,74)})\n",
    "d"
   ]
  },
  {
   "cell_type": "code",
   "execution_count": 139,
   "id": "1267ccb4-2a97-457a-9e3d-c3f6b446dd48",
   "metadata": {},
   "outputs": [
    {
     "data": {
      "text/plain": [
       "{102: (30, 40, 50, 74), 103: 'Hello', 105: 500, 104: [12, 454, 532, 25, 25]}"
      ]
     },
     "execution_count": 139,
     "metadata": {},
     "output_type": "execute_result"
    }
   ],
   "source": [
    "d[104].append(25)\n",
    "d"
   ]
  },
  {
   "cell_type": "code",
   "execution_count": 141,
   "id": "e0e2a342-f18a-46cc-8b93-44f824e639a9",
   "metadata": {},
   "outputs": [
    {
     "data": {
      "text/plain": [
       "0"
      ]
     },
     "execution_count": 141,
     "metadata": {},
     "output_type": "execute_result"
    }
   ],
   "source": [
    "d[102].index(30)"
   ]
  },
  {
   "cell_type": "code",
   "execution_count": 143,
   "id": "8093c867-50b0-48df-8fc5-a261bbd9293a",
   "metadata": {},
   "outputs": [
    {
     "data": {
      "text/plain": [
       "(30, 40, 50, 74)"
      ]
     },
     "execution_count": 143,
     "metadata": {},
     "output_type": "execute_result"
    }
   ],
   "source": [
    "d[102][0:4]"
   ]
  },
  {
   "cell_type": "code",
   "execution_count": 137,
   "id": "3e42bf2f-08ee-4666-9f4c-c5e0309daaa5",
   "metadata": {},
   "outputs": [
    {
     "data": {
      "text/plain": [
       "dict_items([(102, (30, 40, 50, 74)), (103, 'Hello'), (105, 500), (104, [12, 454, 532, 25])])"
      ]
     },
     "execution_count": 137,
     "metadata": {},
     "output_type": "execute_result"
    }
   ],
   "source": [
    "d.items()"
   ]
  },
  {
   "cell_type": "code",
   "execution_count": 147,
   "id": "6d31f2d2-e34f-4b17-8f71-dc127112b339",
   "metadata": {},
   "outputs": [
    {
     "data": {
      "text/plain": [
       "{102: (30, 40, 50, 74),\n",
       " 103: 'Hello',\n",
       " 105: 500,\n",
       " 104: [12, 454, 532, 25, 25],\n",
       " 106: {'a': {30, 50, 70},\n",
       "  'b': (100, 200, 300),\n",
       "  'c': ['K', {'L': [11, 22], 'M': (77, 88)}, 'N']}}"
      ]
     },
     "execution_count": 147,
     "metadata": {},
     "output_type": "execute_result"
    }
   ],
   "source": [
    "d[106]={'a':{30,50,70},'b':(100,200,300),'c':['K',{'L':[11,22],'M':(77,88)},'N']}\n",
    "d"
   ]
  },
  {
   "cell_type": "code",
   "execution_count": 151,
   "id": "87b1cf5f-47a7-47b4-beb8-0aff9722a242",
   "metadata": {},
   "outputs": [
    {
     "data": {
      "text/plain": [
       "{102: (30, 40, 50, 74),\n",
       " 103: 'Hello',\n",
       " 105: 500,\n",
       " 104: [12, 454, 532, 25, 25],\n",
       " 106: {'a': {30, 50, 70},\n",
       "  'b': (100, 200, 300),\n",
       "  'c': ['K', {'L': [11, 22], 'M': (77, 88)}, 'N']},\n",
       " 101: {50: [7, 8, 9, 10], 'apple': (20, 10, 70, [90, 180, 270])}}"
      ]
     },
     "execution_count": 151,
     "metadata": {},
     "output_type": "execute_result"
    }
   ],
   "source": [
    "d[101]={50:[7,8,9,10],'apple':(20,10,70,[90,180,270])}\n",
    "d"
   ]
  },
  {
   "cell_type": "code",
   "execution_count": 155,
   "id": "26f93231-45dc-434b-b7ec-e31750262258",
   "metadata": {},
   "outputs": [
    {
     "data": {
      "text/plain": [
       "180"
      ]
     },
     "execution_count": 155,
     "metadata": {},
     "output_type": "execute_result"
    }
   ],
   "source": [
    "d[101]['apple'][3][1]"
   ]
  },
  {
   "cell_type": "code",
   "execution_count": 157,
   "id": "5a5b6991-c57f-468b-959d-f91c4a77b031",
   "metadata": {},
   "outputs": [
    {
     "ename": "KeyError",
     "evalue": "'c'",
     "output_type": "error",
     "traceback": [
      "\u001b[1;31m---------------------------------------------------------------------------\u001b[0m",
      "\u001b[1;31mKeyError\u001b[0m                                  Traceback (most recent call last)",
      "Cell \u001b[1;32mIn[157], line 1\u001b[0m\n\u001b[1;32m----> 1\u001b[0m d[\u001b[38;5;124m'\u001b[39m\u001b[38;5;124mc\u001b[39m\u001b[38;5;124m'\u001b[39m][\u001b[38;5;124m'\u001b[39m\u001b[38;5;124mM\u001b[39m\u001b[38;5;124m'\u001b[39m]\n",
      "\u001b[1;31mKeyError\u001b[0m: 'c'"
     ]
    }
   ],
   "source": [
    "#access 88"
   ]
  },
  {
   "cell_type": "code",
   "execution_count": null,
   "id": "6dd1d363-e1bb-41e0-990a-5059d0310356",
   "metadata": {},
   "outputs": [],
   "source": []
  }
 ],
 "metadata": {
  "kernelspec": {
   "display_name": "Python 3 (ipykernel)",
   "language": "python",
   "name": "python3"
  },
  "language_info": {
   "codemirror_mode": {
    "name": "ipython",
    "version": 3
   },
   "file_extension": ".py",
   "mimetype": "text/x-python",
   "name": "python",
   "nbconvert_exporter": "python",
   "pygments_lexer": "ipython3",
   "version": "3.12.7"
  }
 },
 "nbformat": 4,
 "nbformat_minor": 5
}
