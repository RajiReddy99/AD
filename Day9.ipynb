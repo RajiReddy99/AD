{
 "cells": [
  {
   "cell_type": "code",
   "execution_count": 1,
   "id": "41656917-5cdb-4241-a9d5-6ffc59f96232",
   "metadata": {},
   "outputs": [],
   "source": [
    "import numpy as np"
   ]
  },
  {
   "cell_type": "code",
   "execution_count": null,
   "id": "f6ad6cfa-82bd-487f-9d97-6b7efbb2fbae",
   "metadata": {},
   "outputs": [],
   "source": [
    "import pandas as pd"
   ]
  },
  {
   "cell_type": "code",
   "execution_count": null,
   "id": "c180e242-b2dd-4a65-a26e-f318b9330301",
   "metadata": {},
   "outputs": [],
   "source": [
    "np.random.randint(30,50,15)"
   ]
  },
  {
   "cell_type": "code",
   "execution_count": 65,
   "id": "381a6db5-09ab-41d8-a72f-0a649c371d79",
   "metadata": {},
   "outputs": [
    {
     "data": {
      "text/plain": [
       "array([[33, 15, 18, 37, 44, 34, 31, 23],\n",
       "       [31, 29, 48, 25, 47, 39, 39, 18],\n",
       "       [30, 41, 26, 21, 28, 29, 17, 38],\n",
       "       [49, 47, 16, 15, 48, 22, 44, 35],\n",
       "       [23, 30, 25, 34, 42, 16, 39, 35],\n",
       "       [45, 45, 21, 45, 37, 48, 23, 47],\n",
       "       [30, 37, 37, 17, 45, 24, 44, 39]])"
      ]
     },
     "execution_count": 65,
     "metadata": {},
     "output_type": "execute_result"
    }
   ],
   "source": [
    "np.random.seed(94)\n",
    "b=np.random.randint(15,50,(7,8))\n",
    "b"
   ]
  },
  {
   "cell_type": "code",
   "execution_count": 67,
   "id": "949e0935-b3b0-4cc6-97bc-52334dab9a0e",
   "metadata": {},
   "outputs": [
    {
     "data": {
      "text/plain": [
       "array([30, 41, 26, 21, 28, 29, 17, 38])"
      ]
     },
     "execution_count": 67,
     "metadata": {},
     "output_type": "execute_result"
    }
   ],
   "source": [
    "b[-5]"
   ]
  },
  {
   "cell_type": "code",
   "execution_count": 69,
   "id": "2b30c518-1962-4470-9f82-e5d5642bd90a",
   "metadata": {},
   "outputs": [
    {
     "data": {
      "text/plain": [
       "array([30, 41, 26, 21, 28, 29, 17, 38])"
      ]
     },
     "execution_count": 69,
     "metadata": {},
     "output_type": "execute_result"
    }
   ],
   "source": [
    "b[2]"
   ]
  },
  {
   "cell_type": "code",
   "execution_count": 71,
   "id": "75cb9a9b-beeb-4375-8acd-d6572f4858d0",
   "metadata": {},
   "outputs": [
    {
     "data": {
      "text/plain": [
       "array([31, 39, 17, 44, 39, 23, 44])"
      ]
     },
     "execution_count": 71,
     "metadata": {},
     "output_type": "execute_result"
    }
   ],
   "source": [
    "b[:,6]"
   ]
  },
  {
   "cell_type": "code",
   "execution_count": 73,
   "id": "c4628f1c-719e-4422-ba6e-6b1c8afdb8bf",
   "metadata": {},
   "outputs": [
    {
     "data": {
      "text/plain": [
       "array([[33, 15, 18, 37, 44, 34, 31, 23],\n",
       "       [31, 29, 48, 25, 47, 39, 39, 18],\n",
       "       [30, 41, 26, 21, 28, 29, 17, 38],\n",
       "       [49, 47, 16, 15, 48, 22, 44, 35],\n",
       "       [23, 30, 25, 34, 42, 16, 39, 35],\n",
       "       [45, 45, 21, 45, 37, 48, 23, 47],\n",
       "       [30, 37, 37, 17, 45, 24, 44, 39]])"
      ]
     },
     "execution_count": 73,
     "metadata": {},
     "output_type": "execute_result"
    }
   ],
   "source": [
    "b"
   ]
  },
  {
   "cell_type": "code",
   "execution_count": 75,
   "id": "2a4c08b4-0a35-45d3-981a-cc2f8e81fd65",
   "metadata": {},
   "outputs": [
    {
     "data": {
      "text/plain": [
       "42"
      ]
     },
     "execution_count": 75,
     "metadata": {},
     "output_type": "execute_result"
    }
   ],
   "source": [
    "b[4,4]"
   ]
  },
  {
   "cell_type": "code",
   "execution_count": 77,
   "id": "e6ae7335-76e6-4f0d-9547-c95ecc791c4a",
   "metadata": {},
   "outputs": [
    {
     "data": {
      "text/plain": [
       "array([[31, 29, 48, 25, 47, 39, 39, 18],\n",
       "       [30, 41, 26, 21, 28, 29, 17, 38],\n",
       "       [49, 47, 16, 15, 48, 22, 44, 35],\n",
       "       [23, 30, 25, 34, 42, 16, 39, 35]])"
      ]
     },
     "execution_count": 77,
     "metadata": {},
     "output_type": "execute_result"
    }
   ],
   "source": [
    "b[1:5]"
   ]
  },
  {
   "cell_type": "code",
   "execution_count": 79,
   "id": "d8a8a762-ee48-4269-873b-c42cbfafd46f",
   "metadata": {},
   "outputs": [
    {
     "data": {
      "text/plain": [
       "array([[29, 48, 25, 47, 39, 39],\n",
       "       [41, 26, 21, 28, 29, 17],\n",
       "       [47, 16, 15, 48, 22, 44],\n",
       "       [30, 25, 34, 42, 16, 39],\n",
       "       [45, 21, 45, 37, 48, 23],\n",
       "       [37, 37, 17, 45, 24, 44]])"
      ]
     },
     "execution_count": 79,
     "metadata": {},
     "output_type": "execute_result"
    }
   ],
   "source": [
    "b[1:7,1:7]"
   ]
  },
  {
   "cell_type": "code",
   "execution_count": 81,
   "id": "8fc6533f-7a37-424f-8ce0-d615702c2461",
   "metadata": {},
   "outputs": [
    {
     "data": {
      "text/plain": [
       "array([[29, 48, 25, 47, 39, 39],\n",
       "       [41, 26, 21, 28, 29, 17],\n",
       "       [47, 16, 15, 48, 22, 44],\n",
       "       [30, 25, 34, 42, 16, 39],\n",
       "       [45, 21, 45, 37, 48, 23],\n",
       "       [37, 37, 17, 45, 24, 44]])"
      ]
     },
     "execution_count": 81,
     "metadata": {},
     "output_type": "execute_result"
    }
   ],
   "source": [
    "b[1:7,1:7]"
   ]
  },
  {
   "cell_type": "code",
   "execution_count": 87,
   "id": "d7a21979-caa2-432c-b493-75ee6da0d868",
   "metadata": {},
   "outputs": [
    {
     "data": {
      "text/plain": [
       "array([[41, 28, 38],\n",
       "       [30, 42, 35]])"
      ]
     },
     "execution_count": 87,
     "metadata": {},
     "output_type": "execute_result"
    }
   ],
   "source": [
    "b[2:5:2,1::3]"
   ]
  },
  {
   "cell_type": "code",
   "execution_count": 93,
   "id": "65ba4c61-59bf-43dc-a998-f56837cd62c7",
   "metadata": {},
   "outputs": [
    {
     "data": {
      "text/plain": [
       "array([[31, 48, 47, 39],\n",
       "       [49, 16, 48, 44],\n",
       "       [45, 21, 37, 23]])"
      ]
     },
     "execution_count": 93,
     "metadata": {},
     "output_type": "execute_result"
    }
   ],
   "source": [
    "b[1:6:2,:7:2]"
   ]
  },
  {
   "cell_type": "code",
   "execution_count": 95,
   "id": "8d16acc9-a066-46c6-846a-bd53ce2247a0",
   "metadata": {},
   "outputs": [
    {
     "data": {
      "text/plain": [
       "array([[15, 18, 37, 44, 34, 31],\n",
       "       [29, 48, 25, 47, 39, 39],\n",
       "       [41, 26, 21, 28, 29, 17],\n",
       "       [47, 16, 15, 48, 22, 44]])"
      ]
     },
     "execution_count": 95,
     "metadata": {},
     "output_type": "execute_result"
    }
   ],
   "source": [
    "b[0:4,1:7]"
   ]
  },
  {
   "cell_type": "code",
   "execution_count": 97,
   "id": "3284d17d-c3b3-46cb-9100-02a2896a56a3",
   "metadata": {},
   "outputs": [
    {
     "data": {
      "text/plain": [
       "(array([0, 0, 0, 0, 0, 1, 1, 1, 1, 1, 2, 2, 3, 3, 3, 3, 3, 4, 4, 4, 4, 5,\n",
       "        5, 5, 5, 5, 5, 6, 6, 6, 6, 6], dtype=int64),\n",
       " array([0, 3, 4, 5, 6, 0, 2, 4, 5, 6, 1, 7, 0, 1, 4, 6, 7, 3, 4, 6, 7, 0,\n",
       "        1, 3, 4, 5, 7, 1, 2, 4, 6, 7], dtype=int64))"
      ]
     },
     "execution_count": 97,
     "metadata": {},
     "output_type": "execute_result"
    }
   ],
   "source": [
    "np.where(b>30)"
   ]
  },
  {
   "cell_type": "code",
   "execution_count": null,
   "id": "7c265823-fb42-4ac1-a717-0a969c45a07a",
   "metadata": {},
   "outputs": [],
   "source": []
  }
 ],
 "metadata": {
  "kernelspec": {
   "display_name": "Python 3 (ipykernel)",
   "language": "python",
   "name": "python3"
  },
  "language_info": {
   "codemirror_mode": {
    "name": "ipython",
    "version": 3
   },
   "file_extension": ".py",
   "mimetype": "text/x-python",
   "name": "python",
   "nbconvert_exporter": "python",
   "pygments_lexer": "ipython3",
   "version": "3.12.7"
  }
 },
 "nbformat": 4,
 "nbformat_minor": 5
}
