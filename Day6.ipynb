{
 "cells": [
  {
   "cell_type": "code",
   "execution_count": 3,
   "id": "0fecf09f-632a-46b3-8bf5-45d5da415868",
   "metadata": {},
   "outputs": [
    {
     "name": "stdout",
     "output_type": "stream",
     "text": [
      "Yes 5\n",
      "Yes 6\n",
      "Yes 7\n",
      "Yes 8\n",
      "Yes 9\n"
     ]
    }
   ],
   "source": [
    "x=5\n",
    "while x<10:\n",
    "    print('Yes',x)\n",
    "    x=x+1"
   ]
  },
  {
   "cell_type": "code",
   "execution_count": 5,
   "id": "b7ca339c-9028-4d1c-8a64-2c3a08c6d9f3",
   "metadata": {},
   "outputs": [
    {
     "data": {
      "text/plain": [
       "[1, 2, 3, 4, 5, 6, 7, 8, 9, 10]"
      ]
     },
     "execution_count": 5,
     "metadata": {},
     "output_type": "execute_result"
    }
   ],
   "source": [
    "y=[1,2,3,4,5,6,7,8,9,10]\n",
    "y"
   ]
  },
  {
   "cell_type": "code",
   "execution_count": 17,
   "id": "9e1af936-bcae-4d15-95c1-a620798dcb44",
   "metadata": {},
   "outputs": [
    {
     "name": "stdout",
     "output_type": "stream",
     "text": [
      "1\n",
      "4\n",
      "9\n",
      "16\n",
      "25\n",
      "36\n",
      "49\n",
      "64\n",
      "81\n",
      "100\n"
     ]
    }
   ],
   "source": [
    "for s in y:\n",
    "    print(s**2)"
   ]
  },
  {
   "cell_type": "code",
   "execution_count": 31,
   "id": "75110bd0-def7-4e1f-a342-b70eff3f576b",
   "metadata": {},
   "outputs": [
    {
     "name": "stdout",
     "output_type": "stream",
     "text": [
      "[15, 20, 25, 30, 35, 40, 45, 50, 55, 60]\n"
     ]
    }
   ],
   "source": [
    "u=[t*5+10 for t in y]\n",
    "print(u)\n",
    "    "
   ]
  },
  {
   "cell_type": "code",
   "execution_count": 33,
   "id": "d2917a13-705e-4711-b172-236ac9a6f4db",
   "metadata": {},
   "outputs": [
    {
     "data": {
      "text/plain": [
       "[15, 20, 25, 30, 35, 40, 45, 50, 55, 60]"
      ]
     },
     "execution_count": 33,
     "metadata": {},
     "output_type": "execute_result"
    }
   ],
   "source": [
    "z=[]\n",
    "for i in y:\n",
    "    z.append(i*5+10)\n",
    "z"
   ]
  },
  {
   "cell_type": "code",
   "execution_count": 41,
   "id": "1545f599-da15-49e2-b09c-3a137cd6a76f",
   "metadata": {},
   "outputs": [
    {
     "name": "stdout",
     "output_type": "stream",
     "text": [
      "Even Number [66, 90, 78]\n",
      "Odd Number [31, 45, 33, 67, 87, 89, 93, 25, 59, 9, 81]\n"
     ]
    }
   ],
   "source": [
    "g=[]\n",
    "k=[]\n",
    "num=[31,45,66,33,90,78,67,87,89,93,25,59,9,81]\n",
    "even =[n for n in num if n%2 ==0]\n",
    "odd =[n for n in num if n%2 != 0]\n",
    "print(\"Even Number\",even)\n",
    "print(\"Odd Number\",odd)\n",
    "        \n",
    "    "
   ]
  },
  {
   "cell_type": "code",
   "execution_count": 65,
   "id": "13c315e2-cdd0-4ffb-9882-84adfb5c3b5e",
   "metadata": {},
   "outputs": [],
   "source": [
    "num=[12,23,56,12]\n",
    "l=[]\n",
    "d=[]\n",
    "for w in num:\n",
    "    if w%2==0:\n",
    "        l.append(w)\n",
    "    else:\n",
    "        d.append(w)"
   ]
  },
  {
   "cell_type": "code",
   "execution_count": 67,
   "id": "0c039d7e-cb75-4fd4-8913-648c411f4bfe",
   "metadata": {},
   "outputs": [
    {
     "data": {
      "text/plain": [
       "[12, 56, 12]"
      ]
     },
     "execution_count": 67,
     "metadata": {},
     "output_type": "execute_result"
    }
   ],
   "source": [
    "l"
   ]
  },
  {
   "cell_type": "code",
   "execution_count": 69,
   "id": "c77e5911-696c-45d9-8af8-74ee6f0c0de3",
   "metadata": {},
   "outputs": [
    {
     "data": {
      "text/plain": [
       "[23]"
      ]
     },
     "execution_count": 69,
     "metadata": {},
     "output_type": "execute_result"
    }
   ],
   "source": [
    "d"
   ]
  },
  {
   "cell_type": "code",
   "execution_count": 71,
   "id": "a14ae151-0398-4ebc-8afc-526ece60957b",
   "metadata": {},
   "outputs": [
    {
     "data": {
      "text/plain": [
       "[31, 45, 66, 33, 90, 78, 67, 87, 89, 93, 25, 59, 9, 81]"
      ]
     },
     "execution_count": 71,
     "metadata": {},
     "output_type": "execute_result"
    }
   ],
   "source": [
    "numb=[31,45,66,33,90,78,67,87,89,93,25,59,9,81]\n",
    "numb"
   ]
  },
  {
   "cell_type": "code",
   "execution_count": 77,
   "id": "2ae6f99e-5e35-45bf-acbb-d0578ba6f263",
   "metadata": {},
   "outputs": [
    {
     "data": {
      "text/plain": [
       "[31, 45, 66, 33, 90, 78, 67, 57, 59, 93, 25, 29, 9, 51]"
      ]
     },
     "execution_count": 77,
     "metadata": {},
     "output_type": "execute_result"
    }
   ],
   "source": [
    "j=[]\n",
    "for w in numb:\n",
    "    if w>80 and w<90:\n",
    "        j.append(w-30)\n",
    "    elif w>50 and w<60:\n",
    "        j.append(w-30)\n",
    "    else:\n",
    "        j.append(w)\n",
    "j\n",
    "\n"
   ]
  },
  {
   "cell_type": "code",
   "execution_count": 81,
   "id": "e928f6a3-4941-47e9-8107-c1ba8db9160a",
   "metadata": {},
   "outputs": [
    {
     "data": {
      "text/plain": [
       "[2, 4, 54, 67, 59, 54, 33]"
      ]
     },
     "execution_count": 81,
     "metadata": {},
     "output_type": "execute_result"
    }
   ],
   "source": [
    "num=[2,4,54,67,89,54,33]\n",
    "h=[]\n",
    "for i in num:\n",
    "    a=str(i)\n",
    "    b=a.replace('8','5')\n",
    "    c=int(b)\n",
    "    h.append(c)\n",
    "h"
   ]
  },
  {
   "cell_type": "code",
   "execution_count": null,
   "id": "735a0622-7728-4268-acaa-5e0e586cf241",
   "metadata": {},
   "outputs": [],
   "source": []
  }
 ],
 "metadata": {
  "kernelspec": {
   "display_name": "Python 3 (ipykernel)",
   "language": "python",
   "name": "python3"
  },
  "language_info": {
   "codemirror_mode": {
    "name": "ipython",
    "version": 3
   },
   "file_extension": ".py",
   "mimetype": "text/x-python",
   "name": "python",
   "nbconvert_exporter": "python",
   "pygments_lexer": "ipython3",
   "version": "3.12.7"
  }
 },
 "nbformat": 4,
 "nbformat_minor": 5
}
