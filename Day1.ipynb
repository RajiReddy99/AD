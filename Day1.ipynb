{
 "cells": [
  {
   "cell_type": "code",
   "execution_count": 1,
   "id": "9f0aa51a-facf-49c6-8243-de8fa1773cef",
   "metadata": {},
   "outputs": [
    {
     "name": "stdout",
     "output_type": "stream",
     "text": [
      "Hello\n"
     ]
    }
   ],
   "source": [
    "print(\"Hello\")"
   ]
  },
  {
   "cell_type": "code",
   "execution_count": 7,
   "id": "b66f37b2-f626-4beb-b29e-819c2a0f292d",
   "metadata": {},
   "outputs": [
    {
     "data": {
      "text/plain": [
       "str"
      ]
     },
     "execution_count": 7,
     "metadata": {},
     "output_type": "execute_result"
    }
   ],
   "source": [
    "a=\"Malla Reddy\"\n",
    "type(a)"
   ]
  },
  {
   "cell_type": "code",
   "execution_count": 29,
   "id": "bcdcb79e-72a9-4ad1-89e4-36180f70949f",
   "metadata": {},
   "outputs": [],
   "source": [
    "name ='Raju'\n",
    "age=19\n",
    "height =5.11\n",
    "trainer = False\n",
    "Institution = \"MallaReddy University\""
   ]
  },
  {
   "cell_type": "code",
   "execution_count": 31,
   "id": "468d0ecf-d2e3-44a2-92a5-4e9953999342",
   "metadata": {},
   "outputs": [
    {
     "data": {
      "text/plain": [
       "str"
      ]
     },
     "execution_count": 31,
     "metadata": {},
     "output_type": "execute_result"
    }
   ],
   "source": [
    "type(name)"
   ]
  },
  {
   "cell_type": "code",
   "execution_count": 33,
   "id": "20898c8f-3f82-4639-bef7-8530b2264b01",
   "metadata": {},
   "outputs": [
    {
     "data": {
      "text/plain": [
       "int"
      ]
     },
     "execution_count": 33,
     "metadata": {},
     "output_type": "execute_result"
    }
   ],
   "source": [
    "type(age)"
   ]
  },
  {
   "cell_type": "code",
   "execution_count": 35,
   "id": "885173a7-69d3-405c-a067-e69d0a367e08",
   "metadata": {},
   "outputs": [
    {
     "data": {
      "text/plain": [
       "float"
      ]
     },
     "execution_count": 35,
     "metadata": {},
     "output_type": "execute_result"
    }
   ],
   "source": [
    "type(height)"
   ]
  },
  {
   "cell_type": "code",
   "execution_count": 37,
   "id": "ac5c6e88-85db-4064-8d16-6cc63e1df541",
   "metadata": {},
   "outputs": [
    {
     "data": {
      "text/plain": [
       "bool"
      ]
     },
     "execution_count": 37,
     "metadata": {},
     "output_type": "execute_result"
    }
   ],
   "source": [
    "type(trainer)"
   ]
  },
  {
   "cell_type": "code",
   "execution_count": 39,
   "id": "d970d9a7-4b37-4a03-bf7d-fba986834553",
   "metadata": {},
   "outputs": [
    {
     "data": {
      "text/plain": [
       "str"
      ]
     },
     "execution_count": 39,
     "metadata": {},
     "output_type": "execute_result"
    }
   ],
   "source": [
    "type(Institution)"
   ]
  },
  {
   "cell_type": "code",
   "execution_count": 9,
   "id": "0a171f32-23a1-413e-af76-bcaeef4f16b2",
   "metadata": {},
   "outputs": [
    {
     "name": "stdout",
     "output_type": "stream",
     "text": [
      "[1, 2, 3, 4, 5, 6, 7, 7]\n"
     ]
    }
   ],
   "source": [
    "list =[1,2,3,4,5,6,7]\n",
    "list.insert(8,7)\n",
    "print(list)"
   ]
  },
  {
   "cell_type": "code",
   "execution_count": 11,
   "id": "96c87103-a184-4400-b916-64d3d65bec3e",
   "metadata": {},
   "outputs": [
    {
     "name": "stdout",
     "output_type": "stream",
     "text": [
      "[1, 2, 3, 4, 5, 6, 7, 7, 3]\n"
     ]
    }
   ],
   "source": [
    "list.append(3)\n",
    "print(list)"
   ]
  },
  {
   "cell_type": "code",
   "execution_count": 13,
   "id": "6e9351f9-f668-45e7-a589-a16da2dfae26",
   "metadata": {},
   "outputs": [
    {
     "name": "stdout",
     "output_type": "stream",
     "text": [
      "[1, 2, 3, 4, 5, 6, 7, 7, 3, 32, 43, 65]\n"
     ]
    }
   ],
   "source": [
    "list.extend([32,43,65])\n",
    "print(list)"
   ]
  },
  {
   "cell_type": "code",
   "execution_count": 15,
   "id": "1577f5a8-d335-4557-8380-53b999d232f2",
   "metadata": {},
   "outputs": [
    {
     "name": "stdout",
     "output_type": "stream",
     "text": [
      "[1, 2, 3, 4, 5, 6, 7, 7, 3, 32, 43]\n"
     ]
    }
   ],
   "source": [
    "list.remove(65)\n",
    "print(list)"
   ]
  },
  {
   "cell_type": "code",
   "execution_count": 17,
   "id": "9c970629-9ae2-4e54-9b58-2de391ca7fab",
   "metadata": {},
   "outputs": [
    {
     "name": "stdout",
     "output_type": "stream",
     "text": [
      "[1, 2, 3, 4, 5, 6, 7, 7, 3, 32]\n"
     ]
    }
   ],
   "source": [
    "list.pop()\n",
    "print(list)"
   ]
  },
  {
   "cell_type": "code",
   "execution_count": 19,
   "id": "d008b3b6-ad1e-4b2e-a243-a227e5c1abf8",
   "metadata": {},
   "outputs": [
    {
     "name": "stdout",
     "output_type": "stream",
     "text": [
      "[2, 3, 4]\n"
     ]
    }
   ],
   "source": [
    "l=list[1:4]\n",
    "print(l)"
   ]
  },
  {
   "cell_type": "code",
   "execution_count": 23,
   "id": "a4fdb2cc-fe36-4990-a7c2-32ceaf5d4dcc",
   "metadata": {},
   "outputs": [
    {
     "name": "stdout",
     "output_type": "stream",
     "text": [
      "[1, 2, 3, 4, 5, 6, 7, 7, 3, 32, 6]\n"
     ]
    }
   ],
   "source": [
    "list.append(6)\n",
    "print(list)"
   ]
  },
  {
   "cell_type": "code",
   "execution_count": 3,
   "id": "e790e01f-d809-44df-9f73-1f68bf4dbfd7",
   "metadata": {},
   "outputs": [],
   "source": [
    "a=56\n",
    "b=4"
   ]
  },
  {
   "cell_type": "code",
   "execution_count": null,
   "id": "59c9bbde-04a1-45af-b0a8-822d4858d171",
   "metadata": {},
   "outputs": [],
   "source": [
    "+ - * / % //"
   ]
  },
  {
   "cell_type": "code",
   "execution_count": 5,
   "id": "f208a00c-ad82-4931-a03c-0da6ca70af17",
   "metadata": {},
   "outputs": [
    {
     "data": {
      "text/plain": [
       "60"
      ]
     },
     "execution_count": 5,
     "metadata": {},
     "output_type": "execute_result"
    }
   ],
   "source": [
    "a + b"
   ]
  },
  {
   "cell_type": "code",
   "execution_count": 7,
   "id": "cddcc10d-dc00-4ba4-8c3f-ceacc2b09584",
   "metadata": {},
   "outputs": [
    {
     "data": {
      "text/plain": [
       "52"
      ]
     },
     "execution_count": 7,
     "metadata": {},
     "output_type": "execute_result"
    }
   ],
   "source": [
    "a -b"
   ]
  },
  {
   "cell_type": "code",
   "execution_count": 9,
   "id": "b86d45b2-c9a6-4187-ad41-8a8ed7092d66",
   "metadata": {},
   "outputs": [
    {
     "data": {
      "text/plain": [
       "14.0"
      ]
     },
     "execution_count": 9,
     "metadata": {},
     "output_type": "execute_result"
    }
   ],
   "source": [
    "a/b"
   ]
  },
  {
   "cell_type": "code",
   "execution_count": 11,
   "id": "88344400-95ba-4cdb-95d1-508e0c475cf6",
   "metadata": {},
   "outputs": [
    {
     "data": {
      "text/plain": [
       "0"
      ]
     },
     "execution_count": 11,
     "metadata": {},
     "output_type": "execute_result"
    }
   ],
   "source": [
    "a % b"
   ]
  },
  {
   "cell_type": "code",
   "execution_count": 13,
   "id": "29543fc8-3f9c-4a27-be69-d0b25efdfec8",
   "metadata": {},
   "outputs": [
    {
     "data": {
      "text/plain": [
       "14"
      ]
     },
     "execution_count": 13,
     "metadata": {},
     "output_type": "execute_result"
    }
   ],
   "source": [
    "a // b"
   ]
  },
  {
   "cell_type": "code",
   "execution_count": 15,
   "id": "4c02f5bd-f225-4ddf-bdae-fb439f4efe14",
   "metadata": {},
   "outputs": [
    {
     "data": {
      "text/plain": [
       "9834496"
      ]
     },
     "execution_count": 15,
     "metadata": {},
     "output_type": "execute_result"
    }
   ],
   "source": [
    "a**b"
   ]
  },
  {
   "cell_type": "code",
   "execution_count": 17,
   "id": "34e1a794-afd5-491f-94e0-b5770ef08f62",
   "metadata": {},
   "outputs": [
    {
     "data": {
      "text/plain": [
       "224"
      ]
     },
     "execution_count": 17,
     "metadata": {},
     "output_type": "execute_result"
    }
   ],
   "source": [
    " a*b\n"
   ]
  },
  {
   "cell_type": "code",
   "execution_count": null,
   "id": "3869fb56-f3c8-4c0a-b1b8-51d5434982ef",
   "metadata": {},
   "outputs": [],
   "source": [
    "> < <= >= == !="
   ]
  },
  {
   "cell_type": "code",
   "execution_count": 19,
   "id": "c1e1755b-0db8-48d3-8146-46c2b5212c71",
   "metadata": {},
   "outputs": [
    {
     "data": {
      "text/plain": [
       "False"
      ]
     },
     "execution_count": 19,
     "metadata": {},
     "output_type": "execute_result"
    }
   ],
   "source": [
    "a<b"
   ]
  },
  {
   "cell_type": "code",
   "execution_count": 21,
   "id": "bc8d5463-efa5-48b8-a514-caba7cc4390c",
   "metadata": {},
   "outputs": [
    {
     "data": {
      "text/plain": [
       "True"
      ]
     },
     "execution_count": 21,
     "metadata": {},
     "output_type": "execute_result"
    }
   ],
   "source": [
    "a>b"
   ]
  },
  {
   "cell_type": "code",
   "execution_count": 23,
   "id": "39ecd57d-0958-43d8-bd68-79ed7f258455",
   "metadata": {},
   "outputs": [
    {
     "data": {
      "text/plain": [
       "False"
      ]
     },
     "execution_count": 23,
     "metadata": {},
     "output_type": "execute_result"
    }
   ],
   "source": [
    "a<=b"
   ]
  },
  {
   "cell_type": "code",
   "execution_count": 25,
   "id": "008bd28c-fb69-4731-b8a0-ec029c712478",
   "metadata": {},
   "outputs": [
    {
     "data": {
      "text/plain": [
       "True"
      ]
     },
     "execution_count": 25,
     "metadata": {},
     "output_type": "execute_result"
    }
   ],
   "source": [
    "a>=b"
   ]
  },
  {
   "cell_type": "code",
   "execution_count": 27,
   "id": "3e55bbce-3f64-4f96-89b9-954504faa322",
   "metadata": {},
   "outputs": [
    {
     "data": {
      "text/plain": [
       "False"
      ]
     },
     "execution_count": 27,
     "metadata": {},
     "output_type": "execute_result"
    }
   ],
   "source": [
    "a == 10"
   ]
  },
  {
   "cell_type": "code",
   "execution_count": 29,
   "id": "76e7f474-c11a-42bc-93e0-d0134e8a3262",
   "metadata": {},
   "outputs": [
    {
     "data": {
      "text/plain": [
       "True"
      ]
     },
     "execution_count": 29,
     "metadata": {},
     "output_type": "execute_result"
    }
   ],
   "source": [
    "a != b"
   ]
  },
  {
   "cell_type": "code",
   "execution_count": 33,
   "id": "114fbe53-b2ed-4d23-94d1-3fd23aed46fb",
   "metadata": {},
   "outputs": [],
   "source": [
    "# logical operators\n",
    "and \n",
    "or \n",
    "not"
   ]
  },
  {
   "cell_type": "code",
   "execution_count": 35,
   "id": "b444c613-c6f9-4d9b-82ee-b46399017667",
   "metadata": {},
   "outputs": [
    {
     "data": {
      "text/plain": [
       "True"
      ]
     },
     "execution_count": 35,
     "metadata": {},
     "output_type": "execute_result"
    }
   ],
   "source": [
    "a>b"
   ]
  },
  {
   "cell_type": "code",
   "execution_count": 37,
   "id": "7dca2ad5-d6c0-476d-9fc8-78f0b43d2d6d",
   "metadata": {},
   "outputs": [
    {
     "data": {
      "text/plain": [
       "False"
      ]
     },
     "execution_count": 37,
     "metadata": {},
     "output_type": "execute_result"
    }
   ],
   "source": [
    "a > 1000"
   ]
  },
  {
   "cell_type": "code",
   "execution_count": 39,
   "id": "fc65ce78-0d49-4dae-98a6-c6f3679e1884",
   "metadata": {},
   "outputs": [
    {
     "data": {
      "text/plain": [
       "False"
      ]
     },
     "execution_count": 39,
     "metadata": {},
     "output_type": "execute_result"
    }
   ],
   "source": [
    "a>b and a > 100"
   ]
  },
  {
   "cell_type": "code",
   "execution_count": 41,
   "id": "2208ae00-2cfb-468a-a498-8ea85b8d6ace",
   "metadata": {},
   "outputs": [
    {
     "data": {
      "text/plain": [
       "True"
      ]
     },
     "execution_count": 41,
     "metadata": {},
     "output_type": "execute_result"
    }
   ],
   "source": [
    "a>b or a>100"
   ]
  },
  {
   "cell_type": "code",
   "execution_count": 47,
   "id": "7f13d742-bdd2-4209-b646-fae47eaff41e",
   "metadata": {},
   "outputs": [
    {
     "data": {
      "text/plain": [
       "False"
      ]
     },
     "execution_count": 47,
     "metadata": {},
     "output_type": "execute_result"
    }
   ],
   "source": [
    "not a>b "
   ]
  },
  {
   "cell_type": "code",
   "execution_count": null,
   "id": "9ce3bda9-32dd-469f-a38e-98a2eb4965d6",
   "metadata": {},
   "outputs": [],
   "source": [
    "True and True --True\n",
    "True and False --False\n",
    "False and True --False\n",
    "False and False --False"
   ]
  },
  {
   "cell_type": "code",
   "execution_count": null,
   "id": "1a31b1bf-1f95-4b42-b7da-dedf8cf680b1",
   "metadata": {},
   "outputs": [],
   "source": [
    "True or True --True\n",
    "True or False --True\n",
    "False or True --True\n",
    "False or False --False"
   ]
  },
  {
   "cell_type": "code",
   "execution_count": null,
   "id": "42311cbb-3555-491e-9942-055dd826cbb7",
   "metadata": {},
   "outputs": [],
   "source": [
    "Not(True) = False\n",
    "Not(False) = True"
   ]
  },
  {
   "cell_type": "code",
   "execution_count": 3,
   "id": "cbb1eacd-ddc5-4335-84d3-9b7ffad7f11d",
   "metadata": {},
   "outputs": [],
   "source": [
    "# q1\n",
    "x = 34.56\n",
    "y=3.5\n",
    "#ALL ARITHMATIC OPERATORS\n",
    "#COMPARISON OPERATOES\n",
    "# and or not"
   ]
  },
  {
   "cell_type": "code",
   "execution_count": 25,
   "id": "46d2257d-5b9a-474c-b4c0-a0101fbaae91",
   "metadata": {},
   "outputs": [
    {
     "name": "stdout",
     "output_type": "stream",
     "text": [
      "x =  34.56\n",
      "y =  3.5\n",
      "x += y:  38.06\n",
      "x -= y:  31.060000000000002\n",
      "x *= y:  120.96000000000001\n",
      "x /= y:  9.874285714285715\n",
      "x %= y:  3.0600000000000023\n",
      "x **= y:  242665.51770697304\n",
      "x //= y:  9.0\n"
     ]
    }
   ],
   "source": [
    "x = 34.56\n",
    "y = 3.5\n",
    "print(\"x = \", x)\n",
    "print(\"y = \", y)\n",
    "x += y \n",
    "print(\"x += y: \", x)\n",
    "x = 34.56\n",
    "x -= y \n",
    "print(\"x -= y: \", x)\n",
    "x = 34.56\n",
    "x *= y\n",
    "print(\"x *= y: \", x)\n",
    "x = 34.56\n",
    "x /= y  \n",
    "print(\"x /= y: \", x)\n",
    "x = 34.56\n",
    "x %= y \n",
    "print(\"x %= y: \", x)\n",
    "x = 34.56\n",
    "x **= y \n",
    "print(\"x **= y: \", x)\n",
    "x = 34.56\n",
    "x //= y \n",
    "print(\"x //= y: \", x)"
   ]
  },
  {
   "cell_type": "code",
   "execution_count": 27,
   "id": "9aa3ee16-4ac3-4e5a-bfc3-29d6579ac598",
   "metadata": {},
   "outputs": [
    {
     "name": "stdout",
     "output_type": "stream",
     "text": [
      "x > y: True\n",
      "x < y: False\n",
      "x >= y: True\n",
      "x <= y: False\n",
      "x == y: False\n",
      "x != y: True\n"
     ]
    }
   ],
   "source": [
    "x = 34.56\n",
    "y = 3.5\n",
    "\n",
    "print(\"x > y:\", x > y)\n",
    "print(\"x < y:\", x < y)\n",
    "print(\"x >= y:\", x >= y)\n",
    "print(\"x <= y:\", x <= y)\n",
    "print(\"x == y:\", x == y)\n",
    "print(\"x != y:\", x != y)"
   ]
  },
  {
   "cell_type": "code",
   "execution_count": 29,
   "id": "debfcabf-dd4c-4905-ba8c-bccb38ab4e67",
   "metadata": {},
   "outputs": [
    {
     "name": "stdout",
     "output_type": "stream",
     "text": [
      "x > y and x > 10: True\n",
      "x > y or x > 10: True\n",
      "not x > y: False\n"
     ]
    }
   ],
   "source": [
    "x = 34.56\n",
    "y = 3.5\n",
    "\n",
    "print(\"x > y and x > 10:\", x > y and x > 10)\n",
    "print(\"x > y or x > 10:\", x > y or x > 10)\n",
    "print(\"not x > y:\", not x > y)"
   ]
  },
  {
   "cell_type": "code",
   "execution_count": 1,
   "id": "065a97b5-f8ae-4033-8eff-f9b840f37737",
   "metadata": {},
   "outputs": [
    {
     "data": {
      "text/plain": [
       "32"
      ]
     },
     "execution_count": 1,
     "metadata": {},
     "output_type": "execute_result"
    }
   ],
   "source": [
    "c=[200,'hello',45,32,True,False,6.7]\n",
    "c[3]"
   ]
  },
  {
   "cell_type": "code",
   "execution_count": 3,
   "id": "e4ed5ffa-2234-4d38-a560-f66b87f3bee4",
   "metadata": {},
   "outputs": [
    {
     "data": {
      "text/plain": [
       "list"
      ]
     },
     "execution_count": 3,
     "metadata": {},
     "output_type": "execute_result"
    }
   ],
   "source": [
    "type(c)"
   ]
  },
  {
   "cell_type": "code",
   "execution_count": 5,
   "id": "3adfa390-107c-4e4b-a5ad-adcc2c1b2cef",
   "metadata": {},
   "outputs": [
    {
     "data": {
      "text/plain": [
       "'hello'"
      ]
     },
     "execution_count": 5,
     "metadata": {},
     "output_type": "execute_result"
    }
   ],
   "source": [
    "c[1]"
   ]
  },
  {
   "cell_type": "code",
   "execution_count": 9,
   "id": "cee5ec0f-88a2-45cd-be09-5301f0ae37e8",
   "metadata": {},
   "outputs": [
    {
     "data": {
      "text/plain": [
       "200"
      ]
     },
     "execution_count": 9,
     "metadata": {},
     "output_type": "execute_result"
    }
   ],
   "source": [
    "c[-7]#negative indexing"
   ]
  },
  {
   "cell_type": "code",
   "execution_count": 11,
   "id": "e627c8aa-7cc0-45d8-ad01-8ea3cc4c399f",
   "metadata": {},
   "outputs": [
    {
     "data": {
      "text/plain": [
       "[45, 32, True]"
      ]
     },
     "execution_count": 11,
     "metadata": {},
     "output_type": "execute_result"
    }
   ],
   "source": [
    "c[2:5]"
   ]
  },
  {
   "cell_type": "code",
   "execution_count": 15,
   "id": "75fb374d-4eaf-4317-ac04-f496b5eb839c",
   "metadata": {},
   "outputs": [
    {
     "data": {
      "text/plain": [
       "[45, 32, True]"
      ]
     },
     "execution_count": 15,
     "metadata": {},
     "output_type": "execute_result"
    }
   ],
   "source": [
    "c[-5:-2]"
   ]
  },
  {
   "cell_type": "code",
   "execution_count": 17,
   "id": "cc3e07a3-c7a8-4d38-a032-b12b71982711",
   "metadata": {},
   "outputs": [
    {
     "data": {
      "text/plain": [
       "[203, 'Hyd', 53, 46, 73, 848]"
      ]
     },
     "execution_count": 17,
     "metadata": {},
     "output_type": "execute_result"
    }
   ],
   "source": [
    "m=[203,'Hyd',53,46,73,848]\n",
    "m"
   ]
  },
  {
   "cell_type": "code",
   "execution_count": 32,
   "id": "b14b2680-c698-4524-9d62-7558590d7a5c",
   "metadata": {},
   "outputs": [
    {
     "data": {
      "text/plain": [
       "['Hyd']"
      ]
     },
     "execution_count": 32,
     "metadata": {},
     "output_type": "execute_result"
    }
   ],
   "source": [
    "m[1:2]"
   ]
  },
  {
   "cell_type": "code",
   "execution_count": 28,
   "id": "cd63a9ce-8877-438e-b909-a408378f5ec0",
   "metadata": {},
   "outputs": [
    {
     "data": {
      "text/plain": [
       "'Hyd'"
      ]
     },
     "execution_count": 28,
     "metadata": {},
     "output_type": "execute_result"
    }
   ],
   "source": [
    "m[1]"
   ]
  },
  {
   "cell_type": "code",
   "execution_count": 30,
   "id": "cd6be3de-6902-410e-ad9d-867230e5000f",
   "metadata": {},
   "outputs": [
    {
     "data": {
      "text/plain": [
       "['Hyd']"
      ]
     },
     "execution_count": 30,
     "metadata": {},
     "output_type": "execute_result"
    }
   ],
   "source": [
    "m[-5:-4]"
   ]
  },
  {
   "cell_type": "code",
   "execution_count": 34,
   "id": "a005928c-27d1-4b61-bb42-3ba331ab91a0",
   "metadata": {},
   "outputs": [
    {
     "data": {
      "text/plain": [
       "[203, 'Hyd', 53, 46, 73, 848]"
      ]
     },
     "execution_count": 34,
     "metadata": {},
     "output_type": "execute_result"
    }
   ],
   "source": [
    "m[0:6]"
   ]
  },
  {
   "cell_type": "code",
   "execution_count": 48,
   "id": "05a35dbd-7a19-44e5-8bc7-053f03793571",
   "metadata": {},
   "outputs": [
    {
     "data": {
      "text/plain": [
       "['Hyd', 46, 848]"
      ]
     },
     "execution_count": 48,
     "metadata": {},
     "output_type": "execute_result"
    }
   ],
   "source": [
    "m[1:6:2]"
   ]
  },
  {
   "cell_type": "code",
   "execution_count": 56,
   "id": "87c7e245-e184-4d2d-899d-520eefb77f73",
   "metadata": {},
   "outputs": [
    {
     "data": {
      "text/plain": [
       "['Hyd', 73]"
      ]
     },
     "execution_count": 56,
     "metadata": {},
     "output_type": "execute_result"
    }
   ],
   "source": [
    "m[1:6:3]"
   ]
  },
  {
   "cell_type": "code",
   "execution_count": 74,
   "id": "c9a51c0f-20a6-4911-b323-1de183f60a87",
   "metadata": {},
   "outputs": [
    {
     "data": {
      "text/plain": [
       "[203, 'Hyd', 53, 'raju', 46, 73, 848, 45]"
      ]
     },
     "execution_count": 74,
     "metadata": {},
     "output_type": "execute_result"
    }
   ],
   "source": [
    "m"
   ]
  },
  {
   "cell_type": "code",
   "execution_count": 86,
   "id": "722797f5-8bcf-4c68-953a-28bcf570eea1",
   "metadata": {},
   "outputs": [
    {
     "data": {
      "text/plain": [
       "[203, 'Hyd', 53, 'raju', 46, 73, 848, 45, 0]"
      ]
     },
     "execution_count": 86,
     "metadata": {},
     "output_type": "execute_result"
    }
   ],
   "source": [
    "m.append(0)\n",
    "m"
   ]
  },
  {
   "cell_type": "code",
   "execution_count": 88,
   "id": "dd54ff68-c1dd-450e-8e56-9af4ec7f4008",
   "metadata": {},
   "outputs": [
    {
     "data": {
      "text/plain": [
       "[203, 'Hyd', 646, 53, 'raju', 46, 73, 848, 45, 0]"
      ]
     },
     "execution_count": 88,
     "metadata": {},
     "output_type": "execute_result"
    }
   ],
   "source": [
    "m.insert(2,646)\n",
    "m"
   ]
  },
  {
   "cell_type": "code",
   "execution_count": 90,
   "id": "ce748b18-dfab-47ab-a745-dd882aea1d02",
   "metadata": {},
   "outputs": [
    {
     "data": {
      "text/plain": [
       "[203, 'Hyd', 646, 53, 46, 73, 848, 45, 0]"
      ]
     },
     "execution_count": 90,
     "metadata": {},
     "output_type": "execute_result"
    }
   ],
   "source": [
    "m.pop(4)\n",
    "m"
   ]
  },
  {
   "cell_type": "code",
   "execution_count": 101,
   "id": "97d5e63d-49cf-415c-8ea8-e986ca3aa797",
   "metadata": {},
   "outputs": [
    {
     "data": {
      "text/plain": [
       "[203, 'Hyd', 646, 53, 46, 73, 848]"
      ]
     },
     "execution_count": 101,
     "metadata": {},
     "output_type": "execute_result"
    }
   ],
   "source": [
    "m.remove(45)\n",
    "m"
   ]
  },
  {
   "cell_type": "code",
   "execution_count": 103,
   "id": "0fcadf84-3ec5-4534-a17b-7c87f0065776",
   "metadata": {},
   "outputs": [
    {
     "data": {
      "text/plain": [
       "[]"
      ]
     },
     "execution_count": 103,
     "metadata": {},
     "output_type": "execute_result"
    }
   ],
   "source": [
    "m.clear()\n",
    "m"
   ]
  },
  {
   "cell_type": "code",
   "execution_count": 4,
   "id": "aeaae94c-9cb4-4bc8-82ee-c537c72444b5",
   "metadata": {},
   "outputs": [
    {
     "data": {
      "text/plain": [
       "[1, 2, 3, 4, 8, 9]"
      ]
     },
     "execution_count": 4,
     "metadata": {},
     "output_type": "execute_result"
    }
   ],
   "source": [
    "m=[1,2,3,4]\n",
    "n=[8,9]\n",
    "m.extend(n)\n",
    "m"
   ]
  },
  {
   "cell_type": "code",
   "execution_count": 6,
   "id": "3f8bc161-d7df-4056-b5b0-25f81c8cac28",
   "metadata": {},
   "outputs": [
    {
     "data": {
      "text/plain": [
       "[1, 2, 3, 4, 8, 9, 8, 9]"
      ]
     },
     "execution_count": 6,
     "metadata": {},
     "output_type": "execute_result"
    }
   ],
   "source": [
    "m+n"
   ]
  },
  {
   "cell_type": "code",
   "execution_count": null,
   "id": "cf263e3b-8957-4450-823d-6807b272e687",
   "metadata": {},
   "outputs": [],
   "source": []
  }
 ],
 "metadata": {
  "kernelspec": {
   "display_name": "Python 3 (ipykernel)",
   "language": "python",
   "name": "python3"
  },
  "language_info": {
   "codemirror_mode": {
    "name": "ipython",
    "version": 3
   },
   "file_extension": ".py",
   "mimetype": "text/x-python",
   "name": "python",
   "nbconvert_exporter": "python",
   "pygments_lexer": "ipython3",
   "version": "3.12.7"
  }
 },
 "nbformat": 4,
 "nbformat_minor": 5
}
